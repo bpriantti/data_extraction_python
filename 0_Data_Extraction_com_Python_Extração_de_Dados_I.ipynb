{
  "nbformat": 4,
  "nbformat_minor": 0,
  "metadata": {
    "colab": {
      "name": "0.Data Extraction com Python - Extração de Dados I.ipynb",
      "provenance": [],
      "mount_file_id": "12LFvGs6rPTH7zX4EzOy3Y30Mu4sRVnTE",
      "authorship_tag": "ABX9TyNimP52CNogHy6biL+n0UTc",
      "include_colab_link": true
    },
    "kernelspec": {
      "name": "python3",
      "display_name": "Python 3"
    },
    "language_info": {
      "name": "python"
    }
  },
  "cells": [
    {
      "cell_type": "markdown",
      "metadata": {
        "id": "view-in-github",
        "colab_type": "text"
      },
      "source": [
        "<a href=\"https://colab.research.google.com/github/bpriantti/Data_Extraction_Com_Python/blob/main/0_Data_Extraction_com_Python_Extra%C3%A7%C3%A3o_de_Dados_I.ipynb\" target=\"_parent\"><img src=\"https://colab.research.google.com/assets/colab-badge.svg\" alt=\"Open In Colab\"/></a>"
      ]
    },
    {
      "cell_type": "markdown",
      "source": [
        "# Data Extraction com Python - Extração de Dados I\n",
        "____\n",
        "\n",
        "__Objetivo:__   \n",
        "\n",
        "O presente repositório visa abordar de forma auto-explicativa e orientada os principais metodos de __data extraction__ utilizando a linguagem python, sendo assim um guia para a programação na linguagem servindo também como repositório para esclarecimento de dúvidas durante o desenvolvimento.\n",
        "\n",
        "__Autor:__  \n",
        "   - Bruno Priantti.\n",
        "    \n",
        "__Contato:__  \n",
        "  - b.priantti@outlook.com\n",
        "\n",
        "__Encontre-me:__  \n",
        "   -  https://www.linkedin.com/in/bpriantti/  \n",
        "   -  https://github.com/bpriantti\n",
        "   -  https://www.instagram.com/brunopriantti/\n",
        "   \n",
        "___\n",
        "\n",
        "\n"
      ],
      "metadata": {
        "id": "rHElODNVM3Kw"
      }
    },
    {
      "cell_type": "markdown",
      "source": [
        "## Definição:\n",
        "\n",
        "Como passo principal do fluxo de Data Science, ou fluxo produtivo de trabalho com informações é a extração de dados, para isso utilizaremos o python. Antes de tudo precisamos entender os tipos de estruturas de dados utilizadas pela comunidade, estas são:\n",
        "- Arquivos CSV (.csv)\n",
        "- Arquivos de texto ( .txt)\n",
        "\n",
        "Para entendermos bem precisamos utilizar o conceito de estruturas de dados aplicados aqui, existem três tipos, estes são:  \n",
        "\n",
        "- Estruturado: Planilhas, etc ...\n",
        "- Não Estruturado: Texto, Imagens, Áudios, etc...\n",
        "- Semi Estruturado: html,json, etc ...\n"
      ],
      "metadata": {
        "id": "WQHDzrF5NZQv"
      }
    },
    {
      "cell_type": "markdown",
      "source": [
        "## Arquivos Estrututurados - __CSV__:\n",
        "\n",
        "Caso queira se especializar neste modulo, abaixo o link para a documentação:\n",
        "\n",
        "https://docs.python.org/3/library/csv.html"
      ],
      "metadata": {
        "id": "luJ3necoPcpa"
      }
    },
    {
      "cell_type": "code",
      "source": [
        "#utilizamos para escrever no colab:\n",
        "%%writefile temp_home.csv\n",
        "temp, valor\n",
        "quarto, 35\n",
        "sala, 40\n",
        "cozinha, 32\n",
        "patio, 30\n",
        "quarto_2,30\n",
        "quarto_3,40"
      ],
      "metadata": {
        "colab": {
          "base_uri": "https://localhost:8080/"
        },
        "id": "znJjOZJbP_I5",
        "outputId": "607d58c5-4d99-453e-f2a9-4b0391b90f72"
      },
      "execution_count": null,
      "outputs": [
        {
          "output_type": "stream",
          "name": "stdout",
          "text": [
            "Overwriting temp_home.csv\n"
          ]
        }
      ]
    },
    {
      "cell_type": "code",
      "execution_count": null,
      "metadata": {
        "colab": {
          "base_uri": "https://localhost:8080/"
        },
        "id": "HY4hkhbOM2aq",
        "outputId": "ac5de2b1-4a94-4ebe-a2da-b9cb43387732"
      },
      "outputs": [
        {
          "output_type": "stream",
          "name": "stdout",
          "text": [
            "['quarto', 'sala', 'cozinha', 'patio', 'quarto_2', 'quarto_3']\n"
          ]
        }
      ],
      "source": [
        "#para lermos aqrquivos csv utilizamos normalmente a biblioteca pandas, mas tambem podemos fazer isso de forma nativa utilizando, o modulo csv.\n",
        "\n",
        "import csv\n",
        "\n",
        "dados = None\n",
        "\n",
        "with open(file='./temp_home.csv', mode='r', encoding='utf8') as arquivo: \n",
        "  leitor_csv_ = csv.reader(arquivo, delimiter=',')\n",
        "  cabecalho = next(leitor_csv_)\n",
        "  indice_ = cabecalho.index('temp')\n",
        "\n",
        "  dados = [linha[indice_] for linha in leitor_csv_]\n",
        "\n",
        "print(dados)\n",
        "\n",
        "#mais a frente quando utilizarmos o modulo pandas, sera muito mais facil o tabalho com arquivos CSV."
      ]
    },
    {
      "cell_type": "markdown",
      "source": [
        "## Arquivos de Texto: (.txt)\n"
      ],
      "metadata": {
        "id": "3W08uH56Y-YP"
      }
    },
    {
      "cell_type": "code",
      "source": [
        "#utilizamos para escrever no colab:\n",
        "%%writefile estraged.txt\n",
        "When you're talking to yourself\n",
        "And nobody's home, you can fool yourself\n",
        "You came in this world alone (alone)\n",
        "\n",
        "So nobody ever told you\n",
        "Baby, how it was gonna be\n",
        "So what'll happen to you, baby?\n",
        "Guess we'll have to wait and see"
      ],
      "metadata": {
        "colab": {
          "base_uri": "https://localhost:8080/"
        },
        "id": "yLgdGI40ZCkx",
        "outputId": "bf5100e4-58b4-4b17-fd5e-e39a31310ce7"
      },
      "execution_count": null,
      "outputs": [
        {
          "output_type": "stream",
          "name": "stdout",
          "text": [
            "Writing estraged.txt\n"
          ]
        }
      ]
    },
    {
      "cell_type": "code",
      "source": [
        "#para lermos utilizamos:\n",
        "with open(file='./estraged.txt', mode='r', encoding='utf8') as arquivo:\n",
        "  linhas = arquivo.read()\n",
        "\n",
        "#visualizand\n",
        "print(linhas)"
      ],
      "metadata": {
        "colab": {
          "base_uri": "https://localhost:8080/"
        },
        "id": "XWWxveD3ZQjL",
        "outputId": "e0e4f317-723c-4707-8b21-5b3d816bcb1a"
      },
      "execution_count": null,
      "outputs": [
        {
          "output_type": "stream",
          "name": "stdout",
          "text": [
            "When you're talking to yourself\n",
            "And nobody's home, you can fool yourself\n",
            "You came in this world alone (alone)\n",
            "\n",
            "So nobody ever told you\n",
            "Baby, how it was gonna be\n",
            "So what'll happen to you, baby?\n",
            "Guess we'll have to wait and see\n"
          ]
        }
      ]
    }
  ]
}