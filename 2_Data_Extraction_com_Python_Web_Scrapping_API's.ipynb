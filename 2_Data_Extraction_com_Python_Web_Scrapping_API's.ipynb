{
  "nbformat": 4,
  "nbformat_minor": 0,
  "metadata": {
    "colab": {
      "name": "2.Data Extraction com Python - Web Scrapping/API's.ipynb",
      "provenance": [],
      "collapsed_sections": [],
      "authorship_tag": "ABX9TyPnRrHUtt+k6q7SUJoi7JRS",
      "include_colab_link": true
    },
    "kernelspec": {
      "name": "python3",
      "display_name": "Python 3"
    },
    "language_info": {
      "name": "python"
    }
  },
  "cells": [
    {
      "cell_type": "markdown",
      "metadata": {
        "id": "view-in-github",
        "colab_type": "text"
      },
      "source": [
        "<a href=\"https://colab.research.google.com/github/bpriantti/Data_Extraction_Com_Python/blob/main/2_Data_Extraction_com_Python_Web_Scrapping_API's.ipynb\" target=\"_parent\"><img src=\"https://colab.research.google.com/assets/colab-badge.svg\" alt=\"Open In Colab\"/></a>"
      ]
    },
    {
      "cell_type": "markdown",
      "source": [
        "# Data Extraction com Python - Web Scrapping/API's\n",
        "____\n",
        "\n",
        "__Objetivo:__   \n",
        "\n",
        "O presente repositório visa abordar de forma auto-explicativa e orientada os principais metodos de __Web Scrapping/API's__ utilizando a linguagem python, sendo assim um guia para a programação na linguagem servindo também como repositório para esclarecimento de dúvidas durante o desenvolvimento.\n",
        "\n",
        "__Autor:__  \n",
        "   - Bruno Priantti.\n",
        "    \n",
        "__Contato:__  \n",
        "  - b.priantti@outlook.com\n",
        "\n",
        "__Encontre-me:__  \n",
        "   -  https://www.linkedin.com/in/bpriantti/  \n",
        "   -  https://github.com/bpriantti\n",
        "   -  https://www.instagram.com/brunopriantti/\n",
        "   \n",
        "___\n"
      ],
      "metadata": {
        "id": "eSXb80Fkhbu1"
      }
    },
    {
      "cell_type": "markdown",
      "source": [
        "## O Formato HTML:\n",
        "\n",
        "O formato HTML, nos permite criar textos de forma estrtuturadas utilizando tags, abaixo o link para a documentacao do formato.\n",
        "\n",
        "https://www.w3schools.com/tags/ref_byfunc.asp"
      ],
      "metadata": {
        "id": "Cmr9i2iuiJQ8"
      }
    },
    {
      "cell_type": "code",
      "execution_count": null,
      "metadata": {
        "colab": {
          "base_uri": "https://localhost:8080/"
        },
        "id": "zPFOMhfRhaVs",
        "outputId": "4ac573bb-f083-40d6-bfd1-b145665fec76"
      },
      "outputs": [
        {
          "output_type": "stream",
          "name": "stdout",
          "text": [
            "Writing movies.html\n"
          ]
        }
      ],
      "source": [
        "#vamos utilizar a magic cell, para exemplificar o formato HTML\n",
        "%%writefile movies.html\n",
        "<html>\n",
        " <head>\n",
        " <!-- metadata -->\n",
        " </head>\n",
        " <body>\n",
        " <h3>Favorite Movies</h3>\n",
        " <p>Filmes:</p>\n",
        " <ul>\n",
        " <li><b>1. The Matrix (1999)</li>\n",
        " <li><b>2. Se7en (1995)</li>\n",
        " <li><b>3. Pulp Fiction (1994)</li>\n",
        " <li><b>4. Taxi Driver (1976)</li>\n",
        " </ul>\n",
        " </body>\n",
        "</html>"
      ]
    },
    {
      "cell_type": "markdown",
      "source": [
        "##Beatiful Soup\n"
      ],
      "metadata": {
        "id": "hEOPNT9ylJBQ"
      }
    },
    {
      "cell_type": "code",
      "source": [
        "#utilizamos o pacote beautiful soup para o processamento do formato Html\n",
        "from bs4 import BeautifulSoup\n",
        "\n",
        "#load na pagina\n",
        "pagina = BeautifulSoup(open('movies.html', mode='r'), 'html.parser')\n",
        "filmes_li = pagina.find_all('li')\n",
        "\n",
        "#exibindo os arquivos\n",
        "print(filmes_li)"
      ],
      "metadata": {
        "colab": {
          "base_uri": "https://localhost:8080/"
        },
        "id": "fzCNXo5Vi3Jk",
        "outputId": "4fd7081d-2e05-4480-bf6e-f3e8e682685a"
      },
      "execution_count": null,
      "outputs": [
        {
          "output_type": "stream",
          "name": "stdout",
          "text": [
            "[<li><b>1. The Matrix (1999)</b></li>, <li><b>2. Se7en (1995)</b></li>, <li><b>3. Pulp Fiction (1994)</b></li>, <li><b>4. Taxi Driver (1976)</b></li>]\n"
          ]
        }
      ]
    },
    {
      "cell_type": "markdown",
      "source": [
        "## API's \n",
        "\n",
        "API's nada mais sao do que conexoes estabelidas com a internet, podemos realizá-las para uma serie de tarefas como conectar a informações de provedores, comandos dentre outras.\n",
        "\n",
        "Para dorminarmos as API's precisamos entender o formato (.json.), este que de forma simples consideramos como:\n",
        "\n",
        "Um arquivo semi-estruturado, organizado por chave/valor, é equivalente a um dicionário Python."
      ],
      "metadata": {
        "id": "lGCMYhgwmPJ0"
      }
    },
    {
      "cell_type": "code",
      "source": [
        "%%writefile country.json\n",
        "[\n",
        " {\n",
        " \"idade\": 26,\n",
        " \"pais\": \"Brasil\"\n",
        " },\n",
        " {\n",
        " \"idade\": 22,\n",
        " \"pais\": \"Estados Unidos\"\n",
        " },\n",
        " {\n",
        " \"idade\": 27,\n",
        " \"pais\": \"Reino Unido\"\n",
        " }\n",
        "]\n"
      ],
      "metadata": {
        "colab": {
          "base_uri": "https://localhost:8080/"
        },
        "id": "IBYX4b89lP6I",
        "outputId": "ebe3ff9d-e8e3-4f14-83ac-7b32e68c2baa"
      },
      "execution_count": null,
      "outputs": [
        {
          "output_type": "stream",
          "name": "stdout",
          "text": [
            "Writing country.json\n"
          ]
        }
      ]
    },
    {
      "cell_type": "code",
      "source": [
        "import json\n",
        "\n",
        "#para ler o arquivo\n",
        "data = json.load(open(file='country.json', mode='r'))\n",
        "print(data)\n",
        "print(type(data))\n"
      ],
      "metadata": {
        "colab": {
          "base_uri": "https://localhost:8080/"
        },
        "id": "HkYHVBRpnlYd",
        "outputId": "ba574d94-6365-4c89-979c-94c7ce445737"
      },
      "execution_count": null,
      "outputs": [
        {
          "output_type": "stream",
          "name": "stdout",
          "text": [
            "[{'idade': 26, 'pais': 'Brasil'}, {'idade': 22, 'pais': 'Estados Unidos'}, {'idade': 27, 'pais': 'Reino Unido'}]\n",
            "<class 'list'>\n"
          ]
        }
      ]
    },
    {
      "cell_type": "code",
      "source": [
        "#para transformar em dict\n",
        "data_json = json.dumps(data, indent=2, ensure_ascii=False)\n",
        "print(data_json)\n",
        "print(type(data_json))"
      ],
      "metadata": {
        "colab": {
          "base_uri": "https://localhost:8080/"
        },
        "id": "_vGU9q8wn5DV",
        "outputId": "19e1a039-0d2f-4d58-d935-c5319f28d594"
      },
      "execution_count": null,
      "outputs": [
        {
          "output_type": "stream",
          "name": "stdout",
          "text": [
            "[\n",
            "  {\n",
            "    \"idade\": 26,\n",
            "    \"pais\": \"Brasil\"\n",
            "  },\n",
            "  {\n",
            "    \"idade\": 22,\n",
            "    \"pais\": \"Estados Unidos\"\n",
            "  },\n",
            "  {\n",
            "    \"idade\": 27,\n",
            "    \"pais\": \"Reino Unido\"\n",
            "  }\n",
            "]\n",
            "<class 'str'>\n"
          ]
        }
      ]
    },
    {
      "cell_type": "code",
      "source": [
        "#conectando a API's\n",
        "\n",
        "import requests\n",
        "from requests.exceptions import HTTPError\n",
        "\n",
        "conteudo = None\n",
        "URL = 'https://www2.cetip.com.br/ConsultarTaxaDi/ConsultarTaxaDICetip.aspx'\n",
        "\n",
        "try:\n",
        " resposta = requests.get(URL)\n",
        " resposta.raise_for_status()\n",
        "except HTTPError as exc:\n",
        " print(exc)\n",
        "else:\n",
        " conteudo = resposta.text\n",
        "\n",
        "#visualizando o conteudo\n",
        "print(conteudo)\n",
        "print(type(conteudo))\n",
        "\n",
        "#visualizando em formato json\n",
        "import json\n",
        "data = json.loads(conteudo)\n",
        "print(data)\n",
        "\n",
        "#retirando a informacao desejada\n",
        "cdi = float(data['taxa'].replace(',', '.'))\n",
        "print(cdi)\n",
        "print(type(cdi))\n"
      ],
      "metadata": {
        "colab": {
          "base_uri": "https://localhost:8080/"
        },
        "id": "ZPsTO-7VoWxH",
        "outputId": "dd9200d6-fb36-4fc6-e4fb-c7651172a038"
      },
      "execution_count": null,
      "outputs": [
        {
          "output_type": "stream",
          "name": "stdout",
          "text": [
            "{\"taxa\":\"12,65\",\"dataTaxa\":\"06/06/2022\",\"indice\":\"35.242,69\",\"dataIndice\":\"07/06/2022\"}\n",
            "<class 'str'>\n",
            "{'taxa': '12,65', 'dataTaxa': '06/06/2022', 'indice': '35.242,69', 'dataIndice': '07/06/2022'}\n",
            "12.65\n",
            "<class 'float'>\n"
          ]
        }
      ]
    }
  ]
}